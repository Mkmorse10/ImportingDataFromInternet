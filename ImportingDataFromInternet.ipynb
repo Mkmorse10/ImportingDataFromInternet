{
 "cells": [
  {
   "cell_type": "code",
   "execution_count": 1,
   "metadata": {},
   "outputs": [],
   "source": [
    "import pandas as pd\n",
    "import numpy as np\n",
    "import yfinance as yf\n",
    "import csv\n",
    "from datetime import datetime\n"
   ]
  },
  {
   "cell_type": "code",
   "execution_count": 2,
   "metadata": {},
   "outputs": [
    {
     "name": "stdout",
     "output_type": "stream",
     "text": [
      "Start time:  2020-07-24 15:07:03.229280\n",
      "[*********************100%***********************]  1 of 1 completed\n",
      "[*********************100%***********************]  1 of 1 completed\n",
      "[*********************100%***********************]  1 of 1 completed\n",
      "[*********************100%***********************]  1 of 1 completed\n",
      "[*********************100%***********************]  1 of 1 completed\n",
      "[*********************100%***********************]  1 of 1 completed\n",
      "[*********************100%***********************]  1 of 1 completed\n",
      "[*********************100%***********************]  1 of 1 completed\n",
      "[*********************100%***********************]  1 of 1 completed\n",
      "[*********************100%***********************]  1 of 1 completed\n",
      "[*********************100%***********************]  1 of 1 completed\n",
      "[*********************100%***********************]  1 of 1 completed\n",
      "[*********************100%***********************]  1 of 1 completed\n",
      "[*********************100%***********************]  1 of 1 completed\n",
      "[*********************100%***********************]  1 of 1 completed\n",
      "[*********************100%***********************]  1 of 1 completed\n",
      "[*********************100%***********************]  1 of 1 completed\n",
      "[*********************100%***********************]  1 of 1 completed\n",
      "[*********************100%***********************]  1 of 1 completed\n",
      "[*********************100%***********************]  1 of 1 completed\n",
      "End Time:  2020-07-24 15:07:06.855651\n",
      "MkSuccess: Mission Accomplished\n"
     ]
    }
   ],
   "source": [
    "print(\"Start time: \",datetime.today().now())\n",
    "\n",
    "symbols = []\n",
    "with open(\"/Users/mikayla/Desktop/Tickers.csv\",\"r\") as f: \n",
    "    for line in f.readlines():\n",
    "        l = line.strip()\n",
    "        symbols.append(l)\n",
    "\n",
    "not_found = []\n",
    "for s in symbols:\n",
    "    try:\n",
    "        df = yf.download(s, start=\"2018-01-01\", end=\"2020-08-12\")\n",
    "        df = pd.DataFrame(df)\n",
    "        df.dropna(inplace=True)\n",
    "    except:\n",
    "        print(\"Not found: %s\" % s)\n",
    "        not_found.append(s)\n",
    "\n",
    "\n",
    "finalsymbols = [s for s in symbols if s not in not_found]\n",
    "\n",
    "for s in finalsymbols:\n",
    "    df = yf.download(s, start=\"2018-01-01\", end=\"2020-08-12\")\n",
    "    df = pd.DataFrame(df)\n",
    "    df.dropna(inplace=True)\n",
    "    \n",
    "    # adjust yahoo data\n",
    "    df['Ratio'] = df['Adj Close'] / df['Close']\n",
    "    df['Open']  = df['Open'] * df['Ratio']\n",
    "    df['High']  = df['High'] * df['Ratio']\n",
    "    df['Low']   = df['Low']  * df['Ratio']\n",
    "    df['Close'] = df['Close'] * df['Ratio']\n",
    "\n",
    "    # create file\n",
    "    fh = open(\"/Users/mikayla/Desktop/\"+s+\".txt\",'w')\n",
    "    fh.write(\"Date,Time,Open,High,Low,Close,Vol,OI\\n\")\n",
    "\n",
    "    for d,o,h,l,c,v in zip(df.index,df['Open'],df['High'],df['Low'],df['Close'],df['Volume']):\n",
    "        fh.write(\"%s,%s,%.5f,%.5f,%.5f,%.5f,%d,%d\\n\" % (d.strftime('%m/%d/%Y'),\"16:00:00\",o,h,l,c,int(v),0))\n",
    "\n",
    "    fh.close()\n",
    "\n",
    "\n",
    "print(\"End Time: \",datetime.today().now())\n",
    "print(\"MkSuccess: Mission Accomplished\")"
   ]
  },
  {
   "cell_type": "code",
   "execution_count": null,
   "metadata": {},
   "outputs": [],
   "source": []
  }
 ],
 "metadata": {
  "kernelspec": {
   "display_name": "Python 3",
   "language": "python",
   "name": "python3"
  },
  "language_info": {
   "codemirror_mode": {
    "name": "ipython",
    "version": 3
   },
   "file_extension": ".py",
   "mimetype": "text/x-python",
   "name": "python",
   "nbconvert_exporter": "python",
   "pygments_lexer": "ipython3",
   "version": "3.7.6"
  }
 },
 "nbformat": 4,
 "nbformat_minor": 4
}
